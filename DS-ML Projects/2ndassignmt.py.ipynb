{
 "cells": [
  {
   "cell_type": "code",
   "execution_count": 4,
   "id": "bfa9ad8a",
   "metadata": {},
   "outputs": [
    {
     "name": "stdout",
     "output_type": "stream",
     "text": [
      "[19.53125    17.64705882 16.04938272 14.95844875]\n"
     ]
    }
   ],
   "source": [
    "import statistics\n",
    "import numpy as np\n",
    "\n",
    "np_weight=np.array([50,51,52,54])\n",
    "np_height_mtrs=np.array([1.6,1.7,1.8,1.9])\n",
    "bmi = np_weight/np_height_mtrs**2\n",
    "# Print out bmi\n",
    "print(bmi)\n"
   ]
  },
  {
   "cell_type": "code",
   "execution_count": 6,
   "id": "d61b4cf2",
   "metadata": {},
   "outputs": [
    {
     "name": "stdout",
     "output_type": "stream",
     "text": [
      "1.75\n",
      "1.75\n",
      "54\n",
      "50\n"
     ]
    }
   ],
   "source": [
    "#printmeanmedian\n",
    "from statistics import mean\n",
    "print(mean(np_height_mtrs))\n",
    "from statistics import median\n",
    "print(median(np_height_mtrs))\n",
    "#printmax,min\n",
    "print(max(np_weight))\n",
    "print(min(np_weight))\n"
   ]
  },
  {
   "cell_type": "code",
   "execution_count": 8,
   "id": "900c68fb",
   "metadata": {},
   "outputs": [
    {
     "data": {
      "text/plain": [
       "array([[ 1,  2,  3,  4,  5],\n",
       "       [ 0,  1,  2,  3,  5],\n",
       "       [ 1,  3,  6, 10, 15]])"
      ]
     },
     "execution_count": 8,
     "metadata": {},
     "output_type": "execute_result"
    }
   ],
   "source": [
    "import numpy as np\n",
    "array=[[ 1,  2,  3,  4,  5,  6],\n",
    "       [ 0,  1,  2,  3,  5,  8],\n",
    "       [ 1,  3,  6, 10, 15, 21]]\n",
    "\n",
    "np_array= np.array(array)\n",
    "np_array[:,0:5]"
   ]
  },
  {
   "cell_type": "code",
   "execution_count": 16,
   "id": "d8200a55",
   "metadata": {},
   "outputs": [
    {
     "data": {
      "text/plain": [
       "array([1, 3, 5])"
      ]
     },
     "execution_count": 16,
     "metadata": {},
     "output_type": "execute_result"
    }
   ],
   "source": [
    "import numpy as np\n",
    "array=[[ 1,  2,  3,  4,  5,  6],\n",
    "       [ 0,  1,  2,  3,  5,  8],\n",
    "       [ 1,  3,  6, 10, 15, 21]]\n",
    "\n",
    "np_array= np.array(array)\n",
    "np_array[0,0::2]\n",
    "\n"
   ]
  },
  {
   "cell_type": "code",
   "execution_count": 45,
   "id": "1ad9871a",
   "metadata": {},
   "outputs": [
    {
     "data": {
      "text/plain": [
       "array([0, 2, 5])"
      ]
     },
     "execution_count": 45,
     "metadata": {},
     "output_type": "execute_result"
    }
   ],
   "source": [
    "import numpy as np\n",
    "array=[[ 1,  2,  3,  4,  5,  6],\n",
    "       [ 0,  1,  2,  3,  5,  8],\n",
    "       [ 1,  3,  6, 10, 15, 21]]\n",
    "\n",
    "np_array= np.array(array)\n",
    "np_array[1,0::2]\n"
   ]
  },
  {
   "cell_type": "code",
   "execution_count": 17,
   "id": "84947553",
   "metadata": {},
   "outputs": [
    {
     "data": {
      "text/plain": [
       "array([ 1,  6, 15])"
      ]
     },
     "execution_count": 17,
     "metadata": {},
     "output_type": "execute_result"
    }
   ],
   "source": [
    "import numpy as np\n",
    "array=[[ 1,  2,  3,  4,  5,  6],\n",
    "       [ 0,  1,  2,  3,  5,  8],\n",
    "       [ 1,  3,  6, 10, 15, 21]]\n",
    "\n",
    "np_array= np.array(array)\n",
    "np_array[2,0::2]\n"
   ]
  },
  {
   "cell_type": "code",
   "execution_count": 27,
   "id": "8ff6bce7",
   "metadata": {},
   "outputs": [
    {
     "name": "stdout",
     "output_type": "stream",
     "text": [
      "[[ 1  3  5]\n",
      " [ 0  2  5]\n",
      " [ 1  6 15]]\n"
     ]
    }
   ],
   "source": [
    "import numpy as np\n",
    "\n",
    "array = np.array([[1, 2, 3, 4, 5, 6],\n",
    "                 [0, 1, 2, 3, 5, 8],\n",
    "                [1, 3, 6, 10, 15, 21]])\n",
    "\n",
    "finalarray = np.array([[array[0, 0], array[0, 2], array[0, 4]],\n",
    "                         [array[1, 0], array[1, 2], array[1, 4]],\n",
    "                         [array[2, 0], array[2, 2], array[2, 4]]])\n",
    "\n",
    "print(finalarray)\n"
   ]
  },
  {
   "cell_type": "code",
   "execution_count": 25,
   "id": "831a9f23",
   "metadata": {},
   "outputs": [
    {
     "name": "stdout",
     "output_type": "stream",
     "text": [
      "[[ 1  4]\n",
      " [ 0  3]\n",
      " [ 1 10]]\n"
     ]
    }
   ],
   "source": [
    "import numpy as np\n",
    "\n",
    "array = np.array([[1, 2, 3, 4, 5, 6],\n",
    "                           [0, 1, 2, 3, 5, 8],\n",
    "                           [1, 3, 6, 10, 15, 21]])\n",
    "\n",
    "\n",
    "finalarray =array[:,: :3]\n",
    "print(finalarray)\n"
   ]
  },
  {
   "cell_type": "code",
   "execution_count": 23,
   "id": "60aeaf88",
   "metadata": {},
   "outputs": [],
   "source": [
    "finalaray =array[:,: :2]"
   ]
  },
  {
   "cell_type": "code",
   "execution_count": 30,
   "id": "c212199b",
   "metadata": {},
   "outputs": [],
   "source": [
    "\n",
    "\n",
    "\n",
    "\n"
   ]
  },
  {
   "cell_type": "code",
   "execution_count": 33,
   "id": "ead8cd55",
   "metadata": {},
   "outputs": [
    {
     "data": {
      "text/plain": [
       "array([[1, 2],\n",
       "       [0, 1]])"
      ]
     },
     "execution_count": 33,
     "metadata": {},
     "output_type": "execute_result"
    }
   ],
   "source": [
    "import numpy as np\n",
    "\n",
    "\n",
    "array = np.array([[1, 2, 3, 4, 5, 6],\n",
    "                 [0, 1, 2, 3, 5, 8],\n",
    "                 [1, 3, 6, 10, 15, 21]])\n",
    "\n",
    "\n",
    "finalarray = array[0:2,0:2] \n",
    "finalarray"
   ]
  },
  {
   "cell_type": "code",
   "execution_count": 31,
   "id": "d9562770",
   "metadata": {},
   "outputs": [
    {
     "data": {
      "text/plain": [
       "(3, 4)"
      ]
     },
     "execution_count": 31,
     "metadata": {},
     "output_type": "execute_result"
    }
   ],
   "source": [
    "array=[[1,2,3,4],\n",
    "       [4,5,6,16],\n",
    "       [7,8,9,10],\n",
    "       ]\n",
    "np_array=np.array(array)\n",
    "np_array.shape"
   ]
  },
  {
   "cell_type": "code",
   "execution_count": 52,
   "id": "80f389d7",
   "metadata": {},
   "outputs": [
    {
     "name": "stdout",
     "output_type": "stream",
     "text": [
      "(12,)\n",
      "[[ 1  2  3  4]\n",
      " [ 5  6  7  8]\n",
      " [ 9 10 11 12]]\n"
     ]
    },
    {
     "data": {
      "text/plain": [
       "(3, 4)"
      ]
     },
     "execution_count": 52,
     "metadata": {},
     "output_type": "execute_result"
    }
   ],
   "source": [
    "import numpy as np\n",
    "np_2d = np.array([1, 2, 3, 4, 5, 6, 7, 8, 9, 10, 11, 12])\n",
    "print(np_2d.shape)\n",
    "np_2dnew=np_2d.reshape(3,4)\n",
    "print(np_2dnew)\n",
    "np_2dnew.shape\n"
   ]
  },
  {
   "cell_type": "code",
   "execution_count": 17,
   "id": "567aa73a",
   "metadata": {},
   "outputs": [
    {
     "data": {
      "text/plain": [
       "[<matplotlib.lines.Line2D at 0x1123da490>]"
      ]
     },
     "execution_count": 17,
     "metadata": {},
     "output_type": "execute_result"
    },
    {
     "data": {
      "image/png": "[encoded data removed]",
      "text/plain": [
       "<Figure size 640x480 with 1 Axes>"
      ]
     },
     "metadata": {},
     "output_type": "display_data"
    }
   ],
   "source": [
    "import matplotlib.pyplot as plt\n",
    "year=[2,3,4,26,2,27]\n",
    "plt.title('goals and year')\n",
    "plt.plot(year)\n",
    "\n"
   ]
  },
  {
   "cell_type": "code",
   "execution_count": 16,
   "id": "65219cdc",
   "metadata": {
    "scrolled": true
   },
   "outputs": [
    {
     "data": {
      "image/png": "[encoded data removed]",
      "text/plain": [
       "<Figure size 640x480 with 1 Axes>"
      ]
     },
     "metadata": {},
     "output_type": "display_data"
    }
   ],
   "source": [
    "import matplotlib.pyplot as plt\n",
    "year=[2,3,4,5,6,7]\n",
    "births=[1,2,3,4,5,6]\n",
    "plt.scatter(births,year)\n",
    "plt.title('birthyear')\n",
    "plt.show()\n"
   ]
  },
  {
   "cell_type": "code",
   "execution_count": 18,
   "id": "fec0dead",
   "metadata": {},
   "outputs": [
    {
     "data": {
      "image/png": "[encoded data removed]",
      "text/plain": [
       "<Figure size 640x480 with 1 Axes>"
      ]
     },
     "metadata": {},
     "output_type": "display_data"
    }
   ],
   "source": [
    "import matplotlib.pyplot as plt\n",
    "year=[23,24,45,4,5,46,47,35,36]\n",
    "plt.hist(year,bins=3)\n",
    "plt.title('birth year')\n",
    "plt.show()"
   ]
  },
  {
   "cell_type": "code",
   "execution_count": 19,
   "id": "aaecdb96",
   "metadata": {},
   "outputs": [
    {
     "data": {
      "image/png": "[encoded data removed]",
      "text/plain": [
       "<Figure size 640x480 with 1 Axes>"
      ]
     },
     "metadata": {},
     "output_type": "display_data"
    }
   ],
   "source": [
    "import matplotlib.pyplot as plt\n",
    "year=[23,24,45,4,5,46,47,35,36]\n",
    "plt.pie(year)\n",
    "plt.title('pie chart')\n",
    "plt.show()\n"
   ]
  },
  {
   "cell_type": "code",
   "execution_count": 20,
   "id": "7f56c0f6",
   "metadata": {},
   "outputs": [
    {
     "data": {
      "image/png": "[encoded data removed]",
      "text/plain": [
       "<Figure size 640x480 with 1 Axes>"
      ]
     },
     "metadata": {},
     "output_type": "display_data"
    }
   ],
   "source": [
    "import matplotlib.pyplot as plt\n",
    "birth=[23,24,45,4,5,46,47,35,36]\n",
    "year=[2004,2005,2006,2007,2008,2009,2010,2011,2012]\n",
    "plt.title('births per year')\n",
    "plt.bar(year,birth)\n",
    "plt.show()"
   ]
  },
  {
   "cell_type": "code",
   "execution_count": 34,
   "id": "52df5582",
   "metadata": {},
   "outputs": [
    {
     "name": "stdout",
     "output_type": "stream",
     "text": [
      "enter a number:-45\n",
      "the number is negative\n"
     ]
    }
   ],
   "source": [
    "a=int(input(\"enter a number:\"))\n",
    "if a < 0:\n",
    " print(\"the number is negative\")\n",
    "else:\n",
    " print(\"the number is positive\")"
   ]
  },
  {
   "cell_type": "code",
   "execution_count": 35,
   "id": "aecd0bb7",
   "metadata": {},
   "outputs": [
    {
     "name": "stdout",
     "output_type": "stream",
     "text": [
      "ebnter age45\n",
      "you are eligible for voting! \n",
      " please move on to the ballet counter\n"
     ]
    }
   ],
   "source": [
    "#elgibiltycheckfor voting\n",
    "age=int(input(\"ebnter age\"))\n",
    "if age< 18:\n",
    " print(\"ineligible for voting please comeback later\")\n",
    "else:\n",
    " print(\"you are eligible for voting! \\n please move on to the ballet counter\")"
   ]
  },
  {
   "cell_type": "code",
   "execution_count": 36,
   "id": "be2593b1",
   "metadata": {},
   "outputs": [
    {
     "name": "stdout",
     "output_type": "stream",
     "text": [
      "0\n",
      "1\n",
      "2\n",
      "3\n",
      "4\n",
      "5\n",
      "6\n",
      "7\n",
      "8\n",
      "9\n",
      "10\n",
      "11\n",
      "12\n",
      "13\n",
      "14\n",
      "15\n"
     ]
    }
   ],
   "source": [
    "\n",
    "for i in range (16):\n",
    " print(i)"
   ]
  },
  {
   "cell_type": "code",
   "execution_count": 14,
   "id": "a38e7c61",
   "metadata": {},
   "outputs": [
    {
     "name": "stdout",
     "output_type": "stream",
     "text": [
      "16\n",
      "17\n",
      "18\n"
     ]
    }
   ],
   "source": [
    "age = [16,17,18]\n",
    "for var in iter(age):\n",
    "    print(var)"
   ]
  },
  {
   "cell_type": "code",
   "execution_count": 3,
   "id": "60316f36",
   "metadata": {},
   "outputs": [
    {
     "name": "stdout",
     "output_type": "stream",
     "text": [
      "s\n",
      "a\n",
      "m\n",
      "i\n",
      "y\n",
      "a\n",
      "a\n",
      "a\n"
     ]
    }
   ],
   "source": [
    "str = 'samiyaaa'\n",
    "for i in iter(str) :\n",
    "    print(i)"
   ]
  },
  {
   "cell_type": "code",
   "execution_count": null,
   "id": "e611721f",
   "metadata": {},
   "outputs": [],
   "source": []
  }
 ],
 "metadata": {
  "kernelspec": {
   "display_name": "Python 3 (ipykernel)",
   "language": "python",
   "name": "python3"
  },
  "language_info": {
   "codemirror_mode": {
    "name": "ipython",
    "version": 3
   },
   "file_extension": ".py",
   "mimetype": "text/x-python",
   "name": "python",
   "nbconvert_exporter": "python",
   "pygments_lexer": "ipython3",
   "version": "3.11.3"
  }
 },
 "nbformat": 4,
 "nbformat_minor": 5
}
